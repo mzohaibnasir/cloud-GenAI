{
  "nbformat": 4,
  "nbformat_minor": 0,
  "metadata": {
    "colab": {
      "provenance": [],
      "authorship_tag": "ABX9TyOG8O6WN96So5IkEa00yJ3X",
      "include_colab_link": true
    },
    "kernelspec": {
      "name": "python3",
      "display_name": "Python 3"
    },
    "language_info": {
      "name": "python"
    }
  },
  "cells": [
    {
      "cell_type": "markdown",
      "metadata": {
        "id": "view-in-github",
        "colab_type": "text"
      },
      "source": [
        "<a href=\"https://colab.research.google.com/github/mzohaibnasir/cloud-GenAI/blob/main/02_End_to_End_usecase_using_AWS.ipynb\" target=\"_parent\"><img src=\"https://colab.research.google.com/assets/colab-badge.svg\" alt=\"Open In Colab\"/></a>"
      ]
    },
    {
      "cell_type": "code",
      "execution_count": 2,
      "metadata": {
        "id": "mN9Yk-dtUXyM"
      },
      "outputs": [],
      "source": [
        "# we are doing blog generation\n",
        "\n",
        "#  we will be creating an API to hit\n",
        "\n",
        "# we use Amazon API gateway to create APIs in AWS\n",
        "# hitting API will trigger lambda function\n",
        "# lambda will be interacting with AWS bedrock\n",
        "# our all Foundation Models are available in bedrock\n",
        "# we'll than save resonse as .txt in s3 bucket"
      ]
    },
    {
      "cell_type": "code",
      "source": [],
      "metadata": {
        "id": "r6RmG8qtUmET"
      },
      "execution_count": null,
      "outputs": []
    }
  ]
}