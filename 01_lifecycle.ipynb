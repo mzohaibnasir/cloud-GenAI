{
  "nbformat": 4,
  "nbformat_minor": 0,
  "metadata": {
    "colab": {
      "provenance": [],
      "authorship_tag": "ABX9TyMGVtDzOcAtzwSco1es3JNU",
      "include_colab_link": true
    },
    "kernelspec": {
      "name": "python3",
      "display_name": "Python 3"
    },
    "language_info": {
      "name": "python"
    }
  },
  "cells": [
    {
      "cell_type": "markdown",
      "metadata": {
        "id": "view-in-github",
        "colab_type": "text"
      },
      "source": [
        "<a href=\"https://colab.research.google.com/github/mzohaibnasir/cloud-GenAI/blob/main/01_lifecycle.ipynb\" target=\"_parent\"><img src=\"https://colab.research.google.com/assets/colab-badge.svg\" alt=\"Open In Colab\"/></a>"
      ]
    },
    {
      "cell_type": "code",
      "execution_count": null,
      "metadata": {
        "id": "cDVHPsBwRU__"
      },
      "outputs": [],
      "source": []
    },
    {
      "cell_type": "markdown",
      "source": [
        "# lifecycle\n",
        "\n",
        "    [deine usecase] ->\n",
        "    [choose right model( foundation or custom] ->\n",
        "    [to solve this task you can (i) prompt engineering (ii) finetuning (iii) Training with human feedback- Alligning]->\n",
        "    [Evaluation]->\n",
        "    [Metrics]->\n",
        "\n",
        "Deployment:\n",
        "\n",
        "    [Deployment]->\n",
        "    [application intgration]->\n",
        "    [Optimize and deploy model for inferencing usingtechniques like groq(LLMOps)] or [Build LLM-powered applications]->\n",
        "\n",
        "\n",
        "\n",
        "  adapt and allign modeules: step(iii +iv)"
      ],
      "metadata": {
        "id": "wyMNz26DR8Hy"
      }
    },
    {
      "cell_type": "markdown",
      "source": [
        "Two categories\n",
        "\n",
        "1. Foundation model i.e. Llama2, openai\n",
        "  1. we can fine tune our FM to suit our custom task\n",
        "2. Custom models: building LLM from scratch"
      ],
      "metadata": {
        "id": "DmGZsW0dRcZo"
      }
    },
    {
      "cell_type": "markdown",
      "source": [],
      "metadata": {
        "id": "IVM07rEeRcfr"
      }
    }
  ]
}